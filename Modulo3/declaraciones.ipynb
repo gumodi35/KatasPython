{
 "cells": [
  {
   "cell_type": "markdown",
   "metadata": {},
   "source": [
    "## Escribir declaraciones if, else, elif\n",
    "\n",
    "Las instrucciones If te permiten ejecutar condicionalmente codigo Python. Se usan comunmente en Python para \"tomar decisiones\" sobre lo que deberia suceder a continuacion mientras se ejecuta un programa."
   ]
  },
  {
   "cell_type": "markdown",
   "metadata": {},
   "source": [
    "if expresion_prueba:\n",
    "    # instruccion(es) a ejecutar\n",
    "\n",
    "if expresion_prueba:\n",
    "    # instruccion(es) a ejecutar\n",
    "    if expresion_prueba:\n",
    "        # instruccion(es) a ejecutar\n",
    "        else:\n",
    "            # instruccion(es) a ejecutar\n",
    "elif expresion_prueba:\n",
    "    # instruccion(es) a ejecutar\n",
    "else:\n",
    "    # instruccion(es) a ejecutar"
   ]
  },
  {
   "cell_type": "code",
   "execution_count": 7,
   "metadata": {},
   "outputs": [
    {
     "name": "stdout",
     "output_type": "stream",
     "text": [
      "Alerta !Un asteroide se acerca a velocidades peligrosas\n"
     ]
    }
   ],
   "source": [
    "# Problema No.1\n",
    "# imprime una advertencia si un asteroide se acerca a la tierra demasiado rapido\n",
    "\n",
    "asteroide = 25\n",
    "if asteroide >= 25:\n",
    "    print('Alerta !Un asteroide se acerca a velocidades peligrosas')\n",
    "else:\n",
    "    print('!Sigue con tu dia')\n"
   ]
  },
  {
   "cell_type": "code",
   "execution_count": 2,
   "metadata": {},
   "outputs": [
    {
     "name": "stdout",
     "output_type": "stream",
     "text": [
      "Look up! ¡Hay una luz magica en el cielo!\n"
     ]
    }
   ],
   "source": [
    "# Problema No.2\n",
    "# imprime una advertencia\n",
    "\n",
    "asteroide = 25\n",
    "if asteroide >= 20:\n",
    "    print('Look up! ¡Hay una luz magica en el cielo!')\n",
    "else:\n",
    "    print('¡Nada que ver aqui!')\n",
    "\n"
   ]
  },
  {
   "cell_type": "code",
   "execution_count": 9,
   "metadata": {},
   "outputs": [
    {
     "name": "stdout",
     "output_type": "stream",
     "text": [
      "¡Alerta, Un asteroide muy peligroso viene hacia la tierra!\n"
     ]
    }
   ],
   "source": [
    "# Problema No.3\n",
    "# probar el codigo con varias velocidades y tamaños\n",
    "\n",
    "velocidad_asteroide = 26\n",
    "tamaño_asteroide = 40\n",
    "if velocidad_asteroide >= 25 and tamaño_asteroide >= 25:\n",
    "    print('¡Alerta, Un asteroide muy peligroso viene hacia la tierra!')\n",
    "elif velocidad_asteroide >= 20:\n",
    "    print('Look up! ¡Hay una luz magica en el cielo!')\n",
    "elif tamaño_asteroide < 25:\n",
    "    print('Nada que ver aqui :)')\n",
    "else:\n",
    "    print('Nada que ver aqui :)')"
   ]
  }
 ],
 "metadata": {
  "interpreter": {
   "hash": "f43a85b17b8b966e2e5cb81802f4eeddcabd0cfd1aeae98b54072b35c98c775a"
  },
  "kernelspec": {
   "display_name": "Python 3.10.2 64-bit",
   "language": "python",
   "name": "python3"
  },
  "language_info": {
   "codemirror_mode": {
    "name": "ipython",
    "version": 3
   },
   "file_extension": ".py",
   "mimetype": "text/x-python",
   "name": "python",
   "nbconvert_exporter": "python",
   "pygments_lexer": "ipython3",
   "version": "3.10.2"
  },
  "orig_nbformat": 4
 },
 "nbformat": 4,
 "nbformat_minor": 2
}
