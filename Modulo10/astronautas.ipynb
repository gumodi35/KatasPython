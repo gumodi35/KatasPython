{
 "cells": [
  {
   "cell_type": "code",
   "execution_count": null,
   "metadata": {},
   "outputs": [],
   "source": [
    "def water_left(astronauts, water_left, days_left):\n",
    "    daily_usage = astronauts * 11\n",
    "    total_usage = daily_usage * days_left\n",
    "    total_water_left = water_left - total_usage\n",
    "    return f\"Total water after {days_left} days is: {total_water_left} liters\"\n",
    "\n",
    "water_left(5, 100, 2)"
   ]
  },
  {
   "cell_type": "code",
   "execution_count": null,
   "metadata": {},
   "outputs": [],
   "source": [
    "def water_left(astronauts, water_left, days_left):\n",
    "    daily_usage = astronauts * 11\n",
    "    total_usage = daily_usage * days_left\n",
    "    total_water_left = water_left - total_usage\n",
    "    if total_water_left < 0:\n",
    "        raise RuntimeError(f\"There is not enough water for {astronauts} astronauts after {days_left} days!\")\n",
    "    return f\"Total water left after {days_left} days is: {total_water_left} liters\"\n",
    "\n",
    "water_left(5, 100, 2)\n"
   ]
  },
  {
   "cell_type": "code",
   "execution_count": 4,
   "metadata": {},
   "outputs": [
    {
     "ename": "TypeError",
     "evalue": "All arguments must be of type int, but received: '3'",
     "output_type": "error",
     "traceback": [
      "\u001b[1;31m---------------------------------------------------------------------------\u001b[0m",
      "\u001b[1;31mTypeError\u001b[0m                                 Traceback (most recent call last)",
      "\u001b[1;32mc:\\Users\\Eliot\\Desktop\\LaunchX\\Modulo10\\astronautas.ipynb Cell 3'\u001b[0m in \u001b[0;36mwater_left\u001b[1;34m(astronauts, water_left, days_left)\u001b[0m\n\u001b[0;32m      <a href='vscode-notebook-cell:/c%3A/Users/Eliot/Desktop/LaunchX/Modulo10/astronautas.ipynb#ch0000002?line=2'>3</a>\u001b[0m \u001b[39mtry\u001b[39;00m:\n\u001b[0;32m      <a href='vscode-notebook-cell:/c%3A/Users/Eliot/Desktop/LaunchX/Modulo10/astronautas.ipynb#ch0000002?line=3'>4</a>\u001b[0m     \u001b[39m# If argument is an int, the following operation will work\u001b[39;00m\n\u001b[1;32m----> <a href='vscode-notebook-cell:/c%3A/Users/Eliot/Desktop/LaunchX/Modulo10/astronautas.ipynb#ch0000002?line=4'>5</a>\u001b[0m     argument \u001b[39m/\u001b[39;49m \u001b[39m10\u001b[39;49m\n\u001b[0;32m      <a href='vscode-notebook-cell:/c%3A/Users/Eliot/Desktop/LaunchX/Modulo10/astronautas.ipynb#ch0000002?line=5'>6</a>\u001b[0m \u001b[39mexcept\u001b[39;00m \u001b[39mTypeError\u001b[39;00m:\n\u001b[0;32m      <a href='vscode-notebook-cell:/c%3A/Users/Eliot/Desktop/LaunchX/Modulo10/astronautas.ipynb#ch0000002?line=6'>7</a>\u001b[0m     \u001b[39m# TypeError will be raised only if it isn't the right type\u001b[39;00m\n\u001b[0;32m      <a href='vscode-notebook-cell:/c%3A/Users/Eliot/Desktop/LaunchX/Modulo10/astronautas.ipynb#ch0000002?line=7'>8</a>\u001b[0m     \u001b[39m# Raise the same exception but with a better error message\u001b[39;00m\n",
      "\u001b[1;31mTypeError\u001b[0m: unsupported operand type(s) for /: 'str' and 'int'",
      "\nDuring handling of the above exception, another exception occurred:\n",
      "\u001b[1;31mTypeError\u001b[0m                                 Traceback (most recent call last)",
      "\u001b[1;32mc:\\Users\\Eliot\\Desktop\\LaunchX\\Modulo10\\astronautas.ipynb Cell 3'\u001b[0m in \u001b[0;36m<module>\u001b[1;34m\u001b[0m\n\u001b[0;32m     <a href='vscode-notebook-cell:/c%3A/Users/Eliot/Desktop/LaunchX/Modulo10/astronautas.ipynb#ch0000002?line=13'>14</a>\u001b[0m         \u001b[39mraise\u001b[39;00m \u001b[39mRuntimeError\u001b[39;00m(\u001b[39mf\u001b[39m\u001b[39m\"\u001b[39m\u001b[39mThere is not enough water for \u001b[39m\u001b[39m{\u001b[39;00mastronauts\u001b[39m}\u001b[39;00m\u001b[39m astronauts after \u001b[39m\u001b[39m{\u001b[39;00mdays_left\u001b[39m}\u001b[39;00m\u001b[39m days!\u001b[39m\u001b[39m\"\u001b[39m)\n\u001b[0;32m     <a href='vscode-notebook-cell:/c%3A/Users/Eliot/Desktop/LaunchX/Modulo10/astronautas.ipynb#ch0000002?line=14'>15</a>\u001b[0m     \u001b[39mreturn\u001b[39;00m \u001b[39mf\u001b[39m\u001b[39m\"\u001b[39m\u001b[39mTotal water left after \u001b[39m\u001b[39m{\u001b[39;00mdays_left\u001b[39m}\u001b[39;00m\u001b[39m days is: \u001b[39m\u001b[39m{\u001b[39;00mtotal_water_left\u001b[39m}\u001b[39;00m\u001b[39m liters\u001b[39m\u001b[39m\"\u001b[39m\n\u001b[1;32m---> <a href='vscode-notebook-cell:/c%3A/Users/Eliot/Desktop/LaunchX/Modulo10/astronautas.ipynb#ch0000002?line=16'>17</a>\u001b[0m water_left(\u001b[39m\"\u001b[39;49m\u001b[39m3\u001b[39;49m\u001b[39m\"\u001b[39;49m, \u001b[39m\"\u001b[39;49m\u001b[39m200\u001b[39;49m\u001b[39m\"\u001b[39;49m, \u001b[39mNone\u001b[39;49;00m)\n",
      "\u001b[1;32mc:\\Users\\Eliot\\Desktop\\LaunchX\\Modulo10\\astronautas.ipynb Cell 3'\u001b[0m in \u001b[0;36mwater_left\u001b[1;34m(astronauts, water_left, days_left)\u001b[0m\n\u001b[0;32m      <a href='vscode-notebook-cell:/c%3A/Users/Eliot/Desktop/LaunchX/Modulo10/astronautas.ipynb#ch0000002?line=4'>5</a>\u001b[0m         argument \u001b[39m/\u001b[39m \u001b[39m10\u001b[39m\n\u001b[0;32m      <a href='vscode-notebook-cell:/c%3A/Users/Eliot/Desktop/LaunchX/Modulo10/astronautas.ipynb#ch0000002?line=5'>6</a>\u001b[0m     \u001b[39mexcept\u001b[39;00m \u001b[39mTypeError\u001b[39;00m:\n\u001b[0;32m      <a href='vscode-notebook-cell:/c%3A/Users/Eliot/Desktop/LaunchX/Modulo10/astronautas.ipynb#ch0000002?line=6'>7</a>\u001b[0m         \u001b[39m# TypeError will be raised only if it isn't the right type\u001b[39;00m\n\u001b[0;32m      <a href='vscode-notebook-cell:/c%3A/Users/Eliot/Desktop/LaunchX/Modulo10/astronautas.ipynb#ch0000002?line=7'>8</a>\u001b[0m         \u001b[39m# Raise the same exception but with a better error message\u001b[39;00m\n\u001b[1;32m----> <a href='vscode-notebook-cell:/c%3A/Users/Eliot/Desktop/LaunchX/Modulo10/astronautas.ipynb#ch0000002?line=8'>9</a>\u001b[0m         \u001b[39mraise\u001b[39;00m \u001b[39mTypeError\u001b[39;00m(\u001b[39mf\u001b[39m\u001b[39m\"\u001b[39m\u001b[39mAll arguments must be of type int, but received: \u001b[39m\u001b[39m'\u001b[39m\u001b[39m{\u001b[39;00margument\u001b[39m}\u001b[39;00m\u001b[39m'\u001b[39m\u001b[39m\"\u001b[39m)\n\u001b[0;32m     <a href='vscode-notebook-cell:/c%3A/Users/Eliot/Desktop/LaunchX/Modulo10/astronautas.ipynb#ch0000002?line=9'>10</a>\u001b[0m daily_usage \u001b[39m=\u001b[39m astronauts \u001b[39m*\u001b[39m \u001b[39m11\u001b[39m\n\u001b[0;32m     <a href='vscode-notebook-cell:/c%3A/Users/Eliot/Desktop/LaunchX/Modulo10/astronautas.ipynb#ch0000002?line=10'>11</a>\u001b[0m total_usage \u001b[39m=\u001b[39m daily_usage \u001b[39m*\u001b[39m days_left\n",
      "\u001b[1;31mTypeError\u001b[0m: All arguments must be of type int, but received: '3'"
     ]
    }
   ],
   "source": [
    "def water_left(astronauts, water_left, days_left):\n",
    "    for argument in [astronauts, water_left, days_left]:\n",
    "        try:\n",
    "            # If argument is an int, the following operation will work\n",
    "            argument / 10\n",
    "        except TypeError:\n",
    "            # TypeError will be raised only if it isn't the right type\n",
    "            # Raise the same exception but with a better error message\n",
    "            raise TypeError(f\"All arguments must be of type int, but received: '{argument}'\")\n",
    "    daily_usage = astronauts * 11\n",
    "    total_usage = daily_usage * days_left\n",
    "    total_water_left = water_left - total_usage\n",
    "    if total_water_left < 0:\n",
    "        raise RuntimeError(f\"There is not enough water for {astronauts} astronauts after {days_left} days!\")\n",
    "    return f\"Total water left after {days_left} days is: {total_water_left} liters\"\n",
    "\n",
    "water_left(\"3\", \"200\", None)"
   ]
  }
 ],
 "metadata": {
  "interpreter": {
   "hash": "f43a85b17b8b966e2e5cb81802f4eeddcabd0cfd1aeae98b54072b35c98c775a"
  },
  "kernelspec": {
   "display_name": "Python 3.10.2 64-bit",
   "language": "python",
   "name": "python3"
  },
  "language_info": {
   "codemirror_mode": {
    "name": "ipython",
    "version": 3
   },
   "file_extension": ".py",
   "mimetype": "text/x-python",
   "name": "python",
   "nbconvert_exporter": "python",
   "pygments_lexer": "ipython3",
   "version": "3.10.2"
  },
  "orig_nbformat": 4
 },
 "nbformat": 4,
 "nbformat_minor": 2
}
