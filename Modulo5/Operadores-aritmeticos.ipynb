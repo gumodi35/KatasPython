{
 "cells": [
  {
   "cell_type": "markdown",
   "metadata": {},
   "source": [
    "## Ejercicio 1 - Utilizar operadores aritmeticos\n",
    "\n",
    "#Operadores aritmeticos en Python\n",
    "\n",
    "Exploremos como podemos crear un programa que pueda calcular la distancia entre dos planetas. Comenzamos usando dos distancias de planetas: Tierra(149.597.870 km) y Jupiter(778.547.200 km)\n"
   ]
  },
  {
   "cell_type": "code",
   "execution_count": null,
   "metadata": {},
   "outputs": [],
   "source": [
    "# Crea variables para almacenar las dos distancias\n",
    "dist_Tierra = 149597870\n",
    "dist_Jupiter = 778547200\n",
    "\n",
    "distancia_km = dist_Jupiter - dist_Tierra\n",
    "print(distancia_km)\n",
    "\n",
    "distancia_mi = distancia_km * 0.621\n",
    "print(distancia_mi)"
   ]
  },
  {
   "cell_type": "code",
   "execution_count": 4,
   "metadata": {},
   "outputs": [],
   "source": [
    "# Almacenar las entradas del usuario\n",
    "first_planet = input('Introduzca la distancia del sol para el primer planeta en KM')\n",
    "seconde_planet = input('Introduzca la distancia desde el sol para el segundo planeta KM')"
   ]
  },
  {
   "cell_type": "code",
   "execution_count": 5,
   "metadata": {},
   "outputs": [],
   "source": [
    "# Convierte las cadenas de ambos planetas a numeros enteros\n",
    "\n",
    "first_planet = int(first_planet)\n",
    "seconde_planet = int(seconde_planet)"
   ]
  },
  {
   "cell_type": "code",
   "execution_count": 6,
   "metadata": {},
   "outputs": [
    {
     "name": "stdout",
     "output_type": "stream",
     "text": [
      "91700000\n",
      "56945700.0\n"
     ]
    }
   ],
   "source": [
    "# Realizar el calculo y determinar el valor absoluto\n",
    "\n",
    "distancia_km = seconde_planet - first_planet\n",
    "print(distancia_km)\n",
    "\n",
    "# Convertir de KM a Millas\n",
    "\n",
    "distancia_mi = distancia_km * 0.621\n",
    "print(abs(distancia_mi))"
   ]
  }
 ],
 "metadata": {
  "interpreter": {
   "hash": "f43a85b17b8b966e2e5cb81802f4eeddcabd0cfd1aeae98b54072b35c98c775a"
  },
  "kernelspec": {
   "display_name": "Python 3.10.2 64-bit",
   "language": "python",
   "name": "python3"
  },
  "language_info": {
   "codemirror_mode": {
    "name": "ipython",
    "version": 3
   },
   "file_extension": ".py",
   "mimetype": "text/x-python",
   "name": "python",
   "nbconvert_exporter": "python",
   "pygments_lexer": "ipython3",
   "version": "3.10.2"
  },
  "orig_nbformat": 4
 },
 "nbformat": 4,
 "nbformat_minor": 2
}
