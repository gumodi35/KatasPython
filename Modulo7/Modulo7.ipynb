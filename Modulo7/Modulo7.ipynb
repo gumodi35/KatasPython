{
 "cells": [
  {
   "cell_type": "markdown",
   "metadata": {},
   "source": [
    "## Ejercicio 1: Creacion de un bucle \"while\"\n",
    "\n",
    "# Ejercicio 1: Uso de ciclos while en Python\n",
    "\n",
    "Crea una aplicacion que solicita a un usuario que ingrese la lista de planetes. Posteriormente agregaras codigo que muestre la lista. Por ahora, crearas solo el codigo que solicita al usuario la lista de planetas.\n"
   ]
  },
  {
   "cell_type": "code",
   "execution_count": 13,
   "metadata": {},
   "outputs": [
    {
     "name": "stdout",
     "output_type": "stream",
     "text": [
      "['Tierra', 'Marte', 'Jupiter']\n",
      "The fisrt planet is: Tierra\n",
      "The fisrt planet is: Marte\n",
      "The fisrt planet is: Jupiter\n"
     ]
    }
   ],
   "source": [
    "# agragamos las variables una para la entrada y la otra para la lista de planetas\n",
    "\n",
    "new_planet = ''\n",
    "planets = []\n",
    "\n",
    "# Ciclo while \n",
    "while new_planet.lower() != 'done':\n",
    "    if new_planet:\n",
    "        # Almacenamos el valor en la lista\n",
    "        planets.append(new_planet)\n",
    "    # Ingresamos un nuevo valor\n",
    "    new_planet = input('Enter a new planet, or done when done')\n",
    "# Imprimimos en pantalla\n",
    "print(planets)\n",
    "print('The fisrt planet is:', planets[0])\n",
    "print('The fisrt planet is:', planets[1])\n",
    "print('The fisrt planet is:', planets[2])\n"
   ]
  },
  {
   "cell_type": "markdown",
   "metadata": {},
   "source": [
    "## Ejercicio 2: Creacion de un ciclo for\n",
    "\n",
    "# Ejercicio: Ciclo para una lista\n",
    "\n",
    "En el ejercicio anterior, creaste codigo para solicitar a los usuarios que introduzcan una lista de nombres de planetas. En este ejercicio, completa la aplicacion escribiendo codigo que muestre los nombres de esos planetas,"
   ]
  },
  {
   "cell_type": "code",
   "execution_count": 14,
   "metadata": {},
   "outputs": [
    {
     "name": "stdout",
     "output_type": "stream",
     "text": [
      "El planeta es : Tierra\n",
      "El planeta es : Marte\n",
      "El planeta es : Jupiter\n"
     ]
    }
   ],
   "source": [
    "# Escribe tu ciclo for para iterar en una lista de planetas\n",
    "\n",
    "for planet in planets:\n",
    "    print('El planeta es :',planet)"
   ]
  }
 ],
 "metadata": {
  "interpreter": {
   "hash": "f43a85b17b8b966e2e5cb81802f4eeddcabd0cfd1aeae98b54072b35c98c775a"
  },
  "kernelspec": {
   "display_name": "Python 3.10.2 64-bit",
   "language": "python",
   "name": "python3"
  },
  "language_info": {
   "codemirror_mode": {
    "name": "ipython",
    "version": 3
   },
   "file_extension": ".py",
   "mimetype": "text/x-python",
   "name": "python",
   "nbconvert_exporter": "python",
   "pygments_lexer": "ipython3",
   "version": "3.10.2"
  },
  "orig_nbformat": 4
 },
 "nbformat": 4,
 "nbformat_minor": 2
}
